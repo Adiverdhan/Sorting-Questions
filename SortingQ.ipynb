{
 "cells": [
  {
   "cell_type": "raw",
   "id": "587fc96a-ff64-430d-a883-718deff012f1",
   "metadata": {},
   "source": [
    "Problem 1.Given an array of n numbers, give an algorithm which gives the element appearing maximum number of times?"
   ]
  },
  {
   "cell_type": "code",
   "execution_count": 1,
   "id": "68d26be9-9d45-46bc-8809-dd5b55efa474",
   "metadata": {},
   "outputs": [
    {
     "name": "stdout",
     "output_type": "stream",
     "text": [
      "The most frequent element is: 4\n"
     ]
    }
   ],
   "source": [
    "def find_most_frequent_element(arr):\n",
    "    frequency_map = {}\n",
    "    for num in arr:\n",
    "        if num in frequency_map:\n",
    "            frequency_map[num] += 1\n",
    "        else:\n",
    "            frequency_map[num] = 1\n",
    "    max_frequency = 0\n",
    "    most_frequent_element = None\n",
    "\n",
    "    for key, value in frequency_map.items():\n",
    "        if value > max_frequency:\n",
    "            max_frequency = value\n",
    "            most_frequent_element = key\n",
    "\n",
    "    return most_frequent_element\n",
    "arr = [1, 2, 3, 4, 2, 2, 3, 4, 4, 4, 5]\n",
    "result = find_most_frequent_element(arr)\n",
    "print(f\"The most frequent element is: {result}\")\n"
   ]
  },
  {
   "cell_type": "raw",
   "id": "32cd51c9-e6a0-4924-98ba-6da3794c83c8",
   "metadata": {},
   "source": [
    "Problem 2 : We are given a list of n-1 integers and these integers are in the range of 1 to n . There are no duplicates in the list. One of the integers is missing in the list. Give an algorithm to find that element Ex: [1,2,4,6,3,7,8] 5 is the missing num."
   ]
  },
  {
   "cell_type": "code",
   "execution_count": null,
   "id": "6caa90b0-c9d8-4ef1-92e3-ac5aa15efc3a",
   "metadata": {},
   "outputs": [
    {
     "name": "stdout",
     "output_type": "stream",
     "text": [
      "The missing element is: 5\n"
     ]
    }
   ],
   "source": [
    "def find_missing_element(nums):\n",
    "    n = len(nums) + 1\n",
    "    expected_sum = (n * (n + 1)) // 2\n",
    "    actual_sum = sum(nums)\n",
    "    missing_element = expected_sum - actual_sum\n",
    "    return missing_element\n",
    "nums = [1, 2, 4, 6, 3, 7, 8]\n",
    "result = find_missing_element(nums)\n",
    "print(f\"The missing element is: {result}\")\n"
   ]
  },
  {
   "cell_type": "raw",
   "id": "ad72b947-bd5a-45c3-88db-034728c1237f",
   "metadata": {},
   "source": [
    "Problem 3 : Given an array of n positive numbers. All numbers occurs even number of times except 1 which occurs odd number of times. Find that number in O(n) time and O(1) space. Ex: [1,2,3,2,3,1,3]. 3 is repeats odd times."
   ]
  },
  {
   "cell_type": "code",
   "execution_count": 3,
   "id": "270a7199-6620-4fa0-b657-895f58d846ab",
   "metadata": {},
   "outputs": [
    {
     "name": "stdout",
     "output_type": "stream",
     "text": [
      "The number occurring an odd number of times is: 3\n"
     ]
    }
   ],
   "source": [
    "def find_odd_occurrence(arr):\n",
    "    result = 0\n",
    "    for num in arr:\n",
    "        result ^= num\n",
    "\n",
    "    return result\n",
    "arr = [1, 2, 3, 2, 3, 1, 3]\n",
    "result = find_odd_occurrence(arr)\n",
    "print(f\"The number occurring an odd number of times is: {result}\")\n"
   ]
  },
  {
   "cell_type": "code",
   "execution_count": null,
   "id": "278868e6-395a-418a-81b5-e5a65ffc78c2",
   "metadata": {},
   "outputs": [],
   "source": [
    "Problem 4 : Given an array of n elements. Find two elements in the array such that their sum is equal to given element K."
   ]
  },
  {
   "cell_type": "code",
   "execution_count": 7,
   "id": "bccbb236-7f8d-4f26-8cd0-bd5efeec62ac",
   "metadata": {},
   "outputs": [
    {
     "name": "stdout",
     "output_type": "stream",
     "text": [
      "The pair with sum 9 is: 5 and 4\n"
     ]
    }
   ],
   "source": [
    "def find_pair_with_sum(arr, target_sum):\n",
    "    seen_elements = set()\n",
    "\n",
    "    for num in arr:\n",
    "        complement = target_sum - num\n",
    "        if complement in seen_elements:\n",
    "            return num, complement\n",
    "\n",
    "        seen_elements.add(num)\n",
    "\n",
    "    return None\n",
    "\n",
    "arr = [1, 2, 3, 4, 5, 6]\n",
    "target_sum = 9\n",
    "result = find_pair_with_sum(arr, target_sum)\n",
    "\n",
    "if result:\n",
    "    print(f\"The pair with sum {target_sum} is: {result[0]} and {result[1]}\")\n",
    "else:\n",
    "    print(f\"No such pair found with sum {target_sum}\")\n"
   ]
  },
  {
   "cell_type": "raw",
   "id": "10acbb8e-440d-4a20-a574-82a8cdc8d21b",
   "metadata": {},
   "source": [
    "Problem 5 : Given an array of both positive and negative numbers, find two numbers such that their sum is closest to 0. Ex: [ 1 ,60 ,-10, 70, -80,85]. Ans : -80,85."
   ]
  },
  {
   "cell_type": "code",
   "execution_count": 8,
   "id": "d96b31d9-e935-405d-b762-ef1b54cd24bb",
   "metadata": {},
   "outputs": [
    {
     "name": "stdout",
     "output_type": "stream",
     "text": [
      "The closest sum pair is: (-80, 85)\n"
     ]
    }
   ],
   "source": [
    "def find_closest_sum_pair(arr):\n",
    "    arr.sort()\n",
    "\n",
    "    left, right = 0, len(arr) - 1\n",
    "    min_sum = float('inf')\n",
    "    closest_pair = None\n",
    "\n",
    "    while left < right:\n",
    "        current_sum = arr[left] + arr[right]\n",
    "        if abs(current_sum) < abs(min_sum):\n",
    "            min_sum = current_sum\n",
    "            closest_pair = (arr[left], arr[right])\n",
    "\n",
    "        if current_sum < 0:\n",
    "            left += 1\n",
    "        else:\n",
    "            right -= 1\n",
    "\n",
    "    return closest_pair\n",
    "\n",
    "# Example usage:\n",
    "arr = [1, 60, -10, 70, -80, 85]\n",
    "result = find_closest_sum_pair(arr)\n",
    "print(f\"The closest sum pair is: {result}\")\n"
   ]
  },
  {
   "cell_type": "raw",
   "id": "49ffe04c-6648-402f-8763-8c10de26bda4",
   "metadata": {},
   "source": [
    "Problem 6 : Given an array of n elements . Find three elements such that their sum is equal to the given number."
   ]
  },
  {
   "cell_type": "code",
   "execution_count": 2,
   "id": "09fea859-bf37-4e54-ba6d-9fb397058aa6",
   "metadata": {},
   "outputs": [
    {
     "name": "stdout",
     "output_type": "stream",
     "text": [
      "Three elements: (1, 2, 15)\n"
     ]
    }
   ],
   "source": [
    "def find_three_elements(arr, target_sum):\n",
    "    arr.sort()\n",
    "\n",
    "    n = len(arr)\n",
    "\n",
    "    for i in range(n - 2):\n",
    "        left, right = i + 1, n - 1\n",
    "\n",
    "        while left < right:\n",
    "            current_sum = arr[i] + arr[left] + arr[right]\n",
    "            if current_sum == target_sum:\n",
    "                return arr[i], arr[left], arr[right]\n",
    "            elif current_sum < target_sum:\n",
    "                left += 1\n",
    "            else:\n",
    "                right -= 1\n",
    "\n",
    "    return None \n",
    "arr = [1, 4, 2, 7, 11, 15]\n",
    "target_sum = 18\n",
    "result = find_three_elements(arr, target_sum)\n",
    "if result:\n",
    "    print(\"Three elements:\", result)\n",
    "else:\n",
    "    print(\"No such triplet found.\")\n"
   ]
  },
  {
   "cell_type": "raw",
   "id": "8d5ab1f1-5e29-42e7-975a-2b08d381fb3a",
   "metadata": {},
   "source": [
    "Problem 7 : Given an array of n elements . Find three elements i, j, k in the array such that i * i + j * j = k*k."
   ]
  },
  {
   "cell_type": "code",
   "execution_count": 3,
   "id": "a2a70505-25ab-47ab-b192-7474f329a64a",
   "metadata": {},
   "outputs": [
    {
     "name": "stdout",
     "output_type": "stream",
     "text": [
      "Pythagorean triplet: (3, 4, 5)\n"
     ]
    }
   ],
   "source": [
    "def find_pythagorean_triplet(arr):\n",
    "    arr.sort() \n",
    "\n",
    "    n = len(arr)\n",
    "\n",
    "    for k in range(n - 1, 1, -1):\n",
    "        i, j = 0, k - 1\n",
    "\n",
    "        while i < j:\n",
    "            sum_of_squares = arr[i] ** 2 + arr[j] ** 2\n",
    "\n",
    "            if sum_of_squares == arr[k] ** 2:\n",
    "                return arr[i], arr[j], arr[k]\n",
    "            elif sum_of_squares < arr[k] ** 2:\n",
    "                i += 1\n",
    "            else:\n",
    "                j -= 1\n",
    "\n",
    "    return None\n",
    "arr = [3, 1, 4, 6, 5]\n",
    "result = find_pythagorean_triplet(arr)\n",
    "\n",
    "if result:\n",
    "    print(\"Pythagorean triplet:\", result)\n",
    "else:\n",
    "    print(\"No such triplet found.\")\n"
   ]
  },
  {
   "cell_type": "raw",
   "id": "ab3361b1-f0cc-437f-9624-e0c91a75f499",
   "metadata": {},
   "source": [
    "Problem 8 : An element is a majority if it appears more than n/2 times. Give an algorithm takes an array of n element as argument and identifies a majority (if it exists)."
   ]
  },
  {
   "cell_type": "code",
   "execution_count": 4,
   "id": "0b710ff0-7e1c-4b51-8f97-fc3e5fc154c8",
   "metadata": {},
   "outputs": [
    {
     "name": "stdout",
     "output_type": "stream",
     "text": [
      "Majority element: 4\n"
     ]
    }
   ],
   "source": [
    "def find_majority_element(arr):\n",
    "    candidate = None\n",
    "    count = 0\n",
    "    for num in arr:\n",
    "        if count == 0:\n",
    "            candidate = num\n",
    "            count = 1\n",
    "        elif candidate == num:\n",
    "            count += 1\n",
    "        else:\n",
    "            count -= 1\n",
    "    count = 0\n",
    "    for num in arr:\n",
    "        if num == candidate:\n",
    "            count += 1\n",
    "\n",
    "    if count > len(arr) // 2:\n",
    "        return candidate\n",
    "    else:\n",
    "        return None\n",
    "arr = [3, 3, 4, 2, 4, 4, 2, 4, 4]\n",
    "result = find_majority_element(arr)\n",
    "\n",
    "if result is not None:\n",
    "    print(\"Majority element:\", result)\n",
    "else:\n",
    "    print(\"No majority element found.\")\n"
   ]
  },
  {
   "cell_type": "raw",
   "id": "c16405a4-88d3-4905-8e19-69f58f5fec8d",
   "metadata": {},
   "source": [
    "Problem 9 : Given n × n matrix, and in each row all 1’s are followed by 0’s. Find the row with the maximum number of 0’s."
   ]
  },
  {
   "cell_type": "code",
   "execution_count": 7,
   "id": "73b066a8-de9d-4f56-8dce-1c2909b0ab2b",
   "metadata": {},
   "outputs": [
    {
     "name": "stdout",
     "output_type": "stream",
     "text": [
      "Row with maximum number of zeros: 4\n"
     ]
    }
   ],
   "source": [
    "def find_row_with_max_zeros(matrix):\n",
    "    n = len(matrix)\n",
    "\n",
    "    max_zeros_row = 0\n",
    "    max_zeros_count = matrix[0].count(0)\n",
    "\n",
    "    for i in range(1, n):\n",
    "        zeros_count = matrix[i].count(0)\n",
    "\n",
    "        if zeros_count > max_zeros_count:\n",
    "            max_zeros_count = zeros_count\n",
    "            max_zeros_row = i\n",
    "\n",
    "    return max_zeros_row\n",
    "matrix = [\n",
    "    [1, 1, 1, 0, 0],\n",
    "    [1, 1, 0, 0, 0],\n",
    "    [1, 1, 1, 1, 0],\n",
    "    [1, 1, 1, 0, 0],\n",
    "    [1, 0, 0, 0, 0]\n",
    "]\n",
    "result = find_row_with_max_zeros(matrix)\n",
    "print(\"Row with maximum number of zeros:\", result)\n"
   ]
  },
  {
   "cell_type": "raw",
   "id": "0ae524b0-b3c0-44cb-b8bd-d2339cdb6ad4",
   "metadata": {},
   "source": [
    "Problem 10 : Sort an array of 0’s, 1’s and 2’s [or R’s, G’s and B’s]: Given an array A[] consisting of 0’s, 1’s and 2’s, give an algorithm for sorting A[].The algorithm should put all 0’s first, then all 1’s and finally all 2’s at the end. Example Input = {0,1,1,0,1,2,1,2,0,0,0,1}, Output ={0,0,0,0,0,1,1,1,1,1,2,2}."
   ]
  },
  {
   "cell_type": "code",
   "execution_count": 8,
   "id": "5046eb8a-f1e3-462d-9de9-c99d3647a379",
   "metadata": {},
   "outputs": [
    {
     "name": "stdout",
     "output_type": "stream",
     "text": [
      "Sorted Array: [0, 0, 0, 0, 0, 1, 1, 1, 1, 1, 2, 2]\n"
     ]
    }
   ],
   "source": [
    "def sort012(arr):\n",
    "    low, mid, high = 0, 0, len(arr) - 1\n",
    "\n",
    "    while mid <= high:\n",
    "        if arr[mid] == 0:\n",
    "            arr[low], arr[mid] = arr[mid], arr[low]\n",
    "            low += 1\n",
    "            mid += 1\n",
    "        elif arr[mid] == 1:\n",
    "            mid += 1\n",
    "        else:\n",
    "            arr[mid], arr[high] = arr[high], arr[mid]\n",
    "            high -= 1\n",
    "arr = [0, 1, 1, 0, 1, 2, 1, 2, 0, 0, 0, 1]\n",
    "sort012(arr)\n",
    "print(\"Sorted Array:\", arr)\n"
   ]
  },
  {
   "cell_type": "code",
   "execution_count": null,
   "id": "53012046-707c-403d-a4a2-8fc0329d42c3",
   "metadata": {},
   "outputs": [],
   "source": []
  }
 ],
 "metadata": {
  "kernelspec": {
   "display_name": "Python 3 (ipykernel)",
   "language": "python",
   "name": "python3"
  },
  "language_info": {
   "codemirror_mode": {
    "name": "ipython",
    "version": 3
   },
   "file_extension": ".py",
   "mimetype": "text/x-python",
   "name": "python",
   "nbconvert_exporter": "python",
   "pygments_lexer": "ipython3",
   "version": "3.10.8"
  }
 },
 "nbformat": 4,
 "nbformat_minor": 5
}
